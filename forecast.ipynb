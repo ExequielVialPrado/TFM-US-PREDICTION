{
 "cells": [
  {
   "cell_type": "code",
   "execution_count": null,
   "metadata": {},
   "outputs": [],
   "source": [
    "# !pip install tbats"
   ]
  },
  {
   "cell_type": "code",
   "execution_count": null,
   "metadata": {},
   "outputs": [],
   "source": [
    "import pandas as pd\n",
    "# from statsmodels.tsa.arima.model import ARIMA\n",
    "# from statsmodels.tsa.statespace.sarimax import SARIMAX\n",
    "# from tbats import TBATS\n",
    "# from statsmodels.tsa.holtwinters import ExponentialSmoothing\n",
    "from sklearn.metrics import mean_squared_error\n",
    "# import numpy as np\n",
    "import warnings\n",
    "from sklearn.preprocessing import MinMaxScaler\n",
    "\n",
    "# from sklearn.model_selection import GridSearchCV, train_test_split\n",
    "# from sklearn.ensemble import RandomForestRegressor\n",
    "from sklearn.metrics import mean_squared_error\n",
    "\n",
    "# from sklearn.ensemble import RandomForestRegressor\n",
    "# from sklearn.linear_model import LinearRegression\n",
    "# import xgboost as xgb\n",
    "# from sklearn.model_selection import GridSearchCV, train_test_split\n",
    "from sklearn.metrics import mean_squared_error\n",
    "\n",
    "from statsmodels.tsa.api import VAR\n",
    "\n",
    "# Ignorar todos los warnings\n",
    "warnings.filterwarnings(\"ignore\")"
   ]
  },
  {
   "cell_type": "code",
   "execution_count": null,
   "metadata": {},
   "outputs": [],
   "source": [
    "# Cargamos los datos y fijamos la columna de fechas\n",
    "date_col = 'date'\n",
    "df = pd.read_excel('dataframe.xlsx')\n",
    "df[date_col] = pd.to_datetime(df[date_col])\n",
    "df.set_index(date_col, inplace=True)\n"
   ]
  },
  {
   "cell_type": "code",
   "execution_count": null,
   "metadata": {},
   "outputs": [],
   "source": [
    "factor = (df['CONSUMER PRICE INDEX'] / df['CONSUMER PRICE INDEX'].shift(1)).mean(skipna=True)\n",
    "# df['CONSUMER PRICE INDEX'] = df['CONSUMER PRICE INDEX'].fillna(method='ffill') * factor\n"
   ]
  },
  {
   "cell_type": "code",
   "execution_count": null,
   "metadata": {},
   "outputs": [],
   "source": [
    "scaler = MinMaxScaler()\n",
    "\n",
    "# Normalizar el DataFrame excepto la columna 'date'\n",
    "columns_to_normalize = df.columns.difference(['date','USREC'])  # Excluir la columna 'date'\n",
    "df[columns_to_normalize] = scaler.fit_transform(df[columns_to_normalize])\n",
    "\n",
    "# Suponiendo que df contiene tu DataFrame original con los datos\n",
    "X = df.drop('USREC', axis=1)\n",
    "y = df['USREC']"
   ]
  },
  {
   "cell_type": "code",
   "execution_count": null,
   "metadata": {},
   "outputs": [],
   "source": [
    "df.tail(5)"
   ]
  },
  {
   "cell_type": "code",
   "execution_count": null,
   "metadata": {},
   "outputs": [],
   "source": [
    "\n",
    "def grid_search_var(data, maxlags):\n",
    "    best_aic = float(\"inf\")\n",
    "    best_order = None\n",
    "    best_model = None\n",
    "    \n",
    "    for lags in range(1, maxlags+1):\n",
    "        model = VAR(data)\n",
    "        result = model.fit(lags)\n",
    "        if result.aic < best_aic:\n",
    "            best_aic = result.aic\n",
    "            best_order = lags\n",
    "            best_model = result\n",
    "    \n",
    "    return best_model, best_order, best_aic\n",
    "\n",
    "def predict_next_periods(df, periods=12, maxlags=5):\n",
    "    # Hacer la búsqueda en rejilla para encontrar el mejor modelo VAR\n",
    "    best_model, best_order, best_aic = grid_search_var(df, maxlags)\n",
    "    \n",
    "    print(f\"Best AIC: {best_aic} with order: {best_order}\")\n",
    "    \n",
    "    # Hacer predicciones\n",
    "    forecast = best_model.forecast(df.values[-best_order:], steps=periods)\n",
    "    \n",
    "    # Obtener la fecha de inicio de la predicción\n",
    "    start_date = df.index[-1] + pd.DateOffset(months=1)\n",
    "    \n",
    "    # Generar índice de fechas para las predicciones\n",
    "    forecast_index = pd.date_range(start=start_date, periods=periods, freq='MS')\n",
    "    \n",
    "    # Convertir las predicciones a un DataFrame\n",
    "    forecast_df = pd.DataFrame(forecast, index=forecast_index, columns=df.columns)\n",
    "    \n",
    "    return forecast_df, best_model\n",
    "\n",
    "def calculate_training_metric(model, df):\n",
    "    # Obtener las predicciones dentro de la muestra\n",
    "    in_sample_forecast = model.fittedvalues\n",
    "    \n",
    "    # Calcular el Error Cuadrático Medio (MSE) para cada columna\n",
    "    mse_dict = {}\n",
    "    for col in df.columns:\n",
    "        mse_dict[col] = mean_squared_error(df[col].iloc[model.k_ar:], in_sample_forecast[col])\n",
    "    \n",
    "    return mse_dict\n",
    "\n",
    "def predict_specific_periods(df, periods_list, maxlags=5):\n",
    "    result_dict = {}\n",
    "    \n",
    "    # Obtener la fecha inicial de predicción\n",
    "    start_date = df.index[-1] + pd.DateOffset(months=1)\n",
    "    \n",
    "    for periods in periods_list:\n",
    "        # Calcular la fecha de predicción específica\n",
    "        prediction_date = start_date + pd.DateOffset(months=periods)\n",
    "        \n",
    "        # Predecir los próximos períodos\n",
    "        predictions, best_model = predict_next_periods(df, periods=periods, maxlags=maxlags)\n",
    "        \n",
    "        # Guardar la predicción en el diccionario de resultados\n",
    "        result_dict[prediction_date] = predictions.iloc[-1]  # Obtener la última fila que corresponde a la predicción final del período\n",
    "    \n",
    "    # Crear un DataFrame con las predicciones para los períodos específicos\n",
    "    result_df = pd.DataFrame(result_dict).T\n",
    "    result_df.index.name = 'Fecha'  # Nombre del índice\n",
    "    \n",
    "    return result_df\n",
    "\n",
    "\n",
    "\n",
    "# Lista de períodos a predecir\n",
    "periods_list = [12, 24, 36]\n",
    "\n",
    "# Predecir los períodos especificados y obtener el DataFrame resultante\n",
    "predictions_df = predict_specific_periods(df, periods_list, maxlags=5)\n",
    "\n",
    "# Imprimir el DataFrame resultante con las fechas exactas en las filas\n",
    "print(\"Predicciones para 12, 24 y 36 meses:\")\n",
    "print(predictions_df)"
   ]
  },
  {
   "cell_type": "code",
   "execution_count": null,
   "metadata": {},
   "outputs": [],
   "source": [
    "predictions_df"
   ]
  },
  {
   "cell_type": "code",
   "execution_count": null,
   "metadata": {},
   "outputs": [],
   "source": [
    "predictions_df = predictions_df.iloc[:, :7]"
   ]
  },
  {
   "cell_type": "code",
   "execution_count": null,
   "metadata": {},
   "outputs": [],
   "source": [
    "predictions_df"
   ]
  },
  {
   "cell_type": "code",
   "execution_count": null,
   "metadata": {},
   "outputs": [],
   "source": [
    "# predictions_df = predictions_df.drop('USREC', axis = 1)\n",
    "predictions_df.to_excel('predictions_years.xlsx')"
   ]
  }
 ],
 "metadata": {
  "kernelspec": {
   "display_name": "env",
   "language": "python",
   "name": "python3"
  },
  "language_info": {
   "codemirror_mode": {
    "name": "ipython",
    "version": 3
   },
   "file_extension": ".py",
   "mimetype": "text/x-python",
   "name": "python",
   "nbconvert_exporter": "python",
   "pygments_lexer": "ipython3",
   "version": "3.9.7"
  }
 },
 "nbformat": 4,
 "nbformat_minor": 2
}
