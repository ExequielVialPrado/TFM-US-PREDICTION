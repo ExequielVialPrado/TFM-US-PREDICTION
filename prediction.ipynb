{
 "cells": [
  {
   "cell_type": "code",
   "execution_count": 1,
   "metadata": {},
   "outputs": [],
   "source": [
    "import joblib\n",
    "import pandas as pd\n",
    "from sklearn.preprocessing import MinMaxScaler\n"
   ]
  },
  {
   "cell_type": "code",
   "execution_count": 2,
   "metadata": {},
   "outputs": [],
   "source": [
    "# Cargar los modelos desde los ficheros\n",
    "best_rf_regressor = joblib.load('best_rf_regressor.pkl')\n",
    "best_xgboost_regressor = joblib.load('best_xgboost_regressor.pkl')\n",
    "best_mlr_regressor = joblib.load('best_mlr_regressor.pkl')"
   ]
  },
  {
   "cell_type": "code",
   "execution_count": 3,
   "metadata": {},
   "outputs": [
    {
     "name": "stdout",
     "output_type": "stream",
     "text": [
      "0.24726642447520827\n",
      "\n",
      "0.5901025163285543\n",
      "\n",
      "0.16263105919623744\n",
      "\n",
      "0.09816154345891576\n"
     ]
    }
   ],
   "source": [
    "file = open('factores.txt','r')\n",
    "\n",
    "factores = []\n",
    "for i in file:\n",
    "    print(i)\n",
    "    factores.append(i.replace('\\n',''))\n",
    "\n",
    "factor_rf = float(factores[0])\n",
    "factor_mlr = float(factores[1])\n",
    "factor_xgboost = float(factores[2])\n",
    "total_mse = float(factores[3])"
   ]
  },
  {
   "cell_type": "code",
   "execution_count": 4,
   "metadata": {},
   "outputs": [
    {
     "data": {
      "text/plain": [
       "0.09816154345891576"
      ]
     },
     "execution_count": 4,
     "metadata": {},
     "output_type": "execute_result"
    }
   ],
   "source": [
    "total_mse"
   ]
  },
  {
   "cell_type": "code",
   "execution_count": 5,
   "metadata": {},
   "outputs": [],
   "source": [
    "df = pd.read_excel('predictions_years.xlsx')"
   ]
  },
  {
   "cell_type": "code",
   "execution_count": 6,
   "metadata": {},
   "outputs": [
    {
     "data": {
      "text/html": [
       "<div>\n",
       "<style scoped>\n",
       "    .dataframe tbody tr th:only-of-type {\n",
       "        vertical-align: middle;\n",
       "    }\n",
       "\n",
       "    .dataframe tbody tr th {\n",
       "        vertical-align: top;\n",
       "    }\n",
       "\n",
       "    .dataframe thead th {\n",
       "        text-align: right;\n",
       "    }\n",
       "</style>\n",
       "<table border=\"1\" class=\"dataframe\">\n",
       "  <thead>\n",
       "    <tr style=\"text-align: right;\">\n",
       "      <th></th>\n",
       "      <th>Fecha</th>\n",
       "      <th>VIX</th>\n",
       "      <th>Unemployment</th>\n",
       "      <th>Interest_Rates</th>\n",
       "      <th>YIC</th>\n",
       "      <th>M2 MONEY STOCK</th>\n",
       "      <th>PER CAPITA CONSUMPTION</th>\n",
       "      <th>CONSUMER PRICE INDEX</th>\n",
       "    </tr>\n",
       "  </thead>\n",
       "  <tbody>\n",
       "    <tr>\n",
       "      <th>0</th>\n",
       "      <td>2025-06-01</td>\n",
       "      <td>0.765318</td>\n",
       "      <td>0.885070</td>\n",
       "      <td>-0.359264</td>\n",
       "      <td>0.826913</td>\n",
       "      <td>1.224544</td>\n",
       "      <td>1.053485</td>\n",
       "      <td>1.094610</td>\n",
       "    </tr>\n",
       "    <tr>\n",
       "      <th>1</th>\n",
       "      <td>2026-06-01</td>\n",
       "      <td>0.667702</td>\n",
       "      <td>1.310944</td>\n",
       "      <td>-1.259594</td>\n",
       "      <td>1.599933</td>\n",
       "      <td>1.567947</td>\n",
       "      <td>1.148476</td>\n",
       "      <td>1.167403</td>\n",
       "    </tr>\n",
       "    <tr>\n",
       "      <th>2</th>\n",
       "      <td>2027-06-01</td>\n",
       "      <td>0.233381</td>\n",
       "      <td>0.993995</td>\n",
       "      <td>-0.797966</td>\n",
       "      <td>1.362266</td>\n",
       "      <td>1.666989</td>\n",
       "      <td>1.299526</td>\n",
       "      <td>1.328394</td>\n",
       "    </tr>\n",
       "  </tbody>\n",
       "</table>\n",
       "</div>"
      ],
      "text/plain": [
       "       Fecha       VIX  Unemployment  Interest_Rates       YIC  \\\n",
       "0 2025-06-01  0.765318      0.885070       -0.359264  0.826913   \n",
       "1 2026-06-01  0.667702      1.310944       -1.259594  1.599933   \n",
       "2 2027-06-01  0.233381      0.993995       -0.797966  1.362266   \n",
       "\n",
       "   M2 MONEY STOCK  PER CAPITA CONSUMPTION  CONSUMER PRICE INDEX  \n",
       "0        1.224544                1.053485              1.094610  \n",
       "1        1.567947                1.148476              1.167403  \n",
       "2        1.666989                1.299526              1.328394  "
      ]
     },
     "execution_count": 6,
     "metadata": {},
     "output_type": "execute_result"
    }
   ],
   "source": [
    "df"
   ]
  },
  {
   "cell_type": "code",
   "execution_count": 7,
   "metadata": {},
   "outputs": [],
   "source": [
    "df = df.rename(columns={'Fecha': 'date'})"
   ]
  },
  {
   "cell_type": "code",
   "execution_count": 8,
   "metadata": {},
   "outputs": [
    {
     "data": {
      "text/html": [
       "<div>\n",
       "<style scoped>\n",
       "    .dataframe tbody tr th:only-of-type {\n",
       "        vertical-align: middle;\n",
       "    }\n",
       "\n",
       "    .dataframe tbody tr th {\n",
       "        vertical-align: top;\n",
       "    }\n",
       "\n",
       "    .dataframe thead th {\n",
       "        text-align: right;\n",
       "    }\n",
       "</style>\n",
       "<table border=\"1\" class=\"dataframe\">\n",
       "  <thead>\n",
       "    <tr style=\"text-align: right;\">\n",
       "      <th></th>\n",
       "      <th>date</th>\n",
       "      <th>VIX</th>\n",
       "      <th>Unemployment</th>\n",
       "      <th>Interest_Rates</th>\n",
       "      <th>YIC</th>\n",
       "      <th>M2 MONEY STOCK</th>\n",
       "      <th>PER CAPITA CONSUMPTION</th>\n",
       "      <th>CONSUMER PRICE INDEX</th>\n",
       "    </tr>\n",
       "  </thead>\n",
       "  <tbody>\n",
       "    <tr>\n",
       "      <th>0</th>\n",
       "      <td>2025-06-01</td>\n",
       "      <td>0.765318</td>\n",
       "      <td>0.885070</td>\n",
       "      <td>-0.359264</td>\n",
       "      <td>0.826913</td>\n",
       "      <td>1.224544</td>\n",
       "      <td>1.053485</td>\n",
       "      <td>1.094610</td>\n",
       "    </tr>\n",
       "    <tr>\n",
       "      <th>1</th>\n",
       "      <td>2026-06-01</td>\n",
       "      <td>0.667702</td>\n",
       "      <td>1.310944</td>\n",
       "      <td>-1.259594</td>\n",
       "      <td>1.599933</td>\n",
       "      <td>1.567947</td>\n",
       "      <td>1.148476</td>\n",
       "      <td>1.167403</td>\n",
       "    </tr>\n",
       "    <tr>\n",
       "      <th>2</th>\n",
       "      <td>2027-06-01</td>\n",
       "      <td>0.233381</td>\n",
       "      <td>0.993995</td>\n",
       "      <td>-0.797966</td>\n",
       "      <td>1.362266</td>\n",
       "      <td>1.666989</td>\n",
       "      <td>1.299526</td>\n",
       "      <td>1.328394</td>\n",
       "    </tr>\n",
       "  </tbody>\n",
       "</table>\n",
       "</div>"
      ],
      "text/plain": [
       "        date       VIX  Unemployment  Interest_Rates       YIC  \\\n",
       "0 2025-06-01  0.765318      0.885070       -0.359264  0.826913   \n",
       "1 2026-06-01  0.667702      1.310944       -1.259594  1.599933   \n",
       "2 2027-06-01  0.233381      0.993995       -0.797966  1.362266   \n",
       "\n",
       "   M2 MONEY STOCK  PER CAPITA CONSUMPTION  CONSUMER PRICE INDEX  \n",
       "0        1.224544                1.053485              1.094610  \n",
       "1        1.567947                1.148476              1.167403  \n",
       "2        1.666989                1.299526              1.328394  "
      ]
     },
     "execution_count": 8,
     "metadata": {},
     "output_type": "execute_result"
    }
   ],
   "source": [
    "df"
   ]
  },
  {
   "cell_type": "code",
   "execution_count": 9,
   "metadata": {},
   "outputs": [],
   "source": [
    "x_real = df.drop('date', axis = 1)\n",
    "# y_real, y_date = df['USREC'], df['date']\n",
    "\n",
    "rf_test_pred = best_rf_regressor.predict(x_real)\n",
    "xgboost_test_pred = best_xgboost_regressor.predict(x_real)\n",
    "mlr_test_pred = best_mlr_regressor.predict(x_real)"
   ]
  },
  {
   "cell_type": "code",
   "execution_count": 10,
   "metadata": {},
   "outputs": [],
   "source": [
    "\n",
    "\n",
    "predictions = pd.DataFrame()\n",
    "\n",
    "predictions['Random Forest'] = rf_test_pred\n",
    "predictions['XG Boost'] = xgboost_test_pred\n",
    "predictions['Multiple Linear Regression'] = mlr_test_pred\n",
    "\n",
    "predictions['Probabilidad ponderada'] = (((predictions['Random Forest']/factor_rf) + (predictions['XG Boost']/factor_xgboost) + (predictions['Multiple Linear Regression']/factor_mlr))*total_mse).round(2)\n",
    "\n",
    "# # Obtener todas las columnas excepto las dos primeras ('date' y 'USREC')\n",
    "# columns_to_scale = predictions.columns[2:]  \n",
    "\n",
    "# # Inicializar el objeto MinMaxScaler\n",
    "# scaler = MinMaxScaler()\n",
    "\n",
    "# # Aplicar el escalado Min-Max a las columnas seleccionadas\n",
    "# predictions[columns_to_scale] = scaler.fit_transform(predictions[columns_to_scale])\n",
    "\n",
    "# Aplicar el escalado Min-Max a la columna 'probabilidad'\n",
    "predictions['Probabilidad ponderada'] = predictions['Probabilidad ponderada']*100"
   ]
  },
  {
   "cell_type": "code",
   "execution_count": 11,
   "metadata": {},
   "outputs": [
    {
     "data": {
      "text/html": [
       "<div>\n",
       "<style scoped>\n",
       "    .dataframe tbody tr th:only-of-type {\n",
       "        vertical-align: middle;\n",
       "    }\n",
       "\n",
       "    .dataframe tbody tr th {\n",
       "        vertical-align: top;\n",
       "    }\n",
       "\n",
       "    .dataframe thead th {\n",
       "        text-align: right;\n",
       "    }\n",
       "</style>\n",
       "<table border=\"1\" class=\"dataframe\">\n",
       "  <thead>\n",
       "    <tr style=\"text-align: right;\">\n",
       "      <th></th>\n",
       "      <th>Random Forest</th>\n",
       "      <th>XG Boost</th>\n",
       "      <th>Multiple Linear Regression</th>\n",
       "      <th>Probabilidad ponderada</th>\n",
       "    </tr>\n",
       "  </thead>\n",
       "  <tbody>\n",
       "    <tr>\n",
       "      <th>0</th>\n",
       "      <td>0.693333</td>\n",
       "      <td>0.421857</td>\n",
       "      <td>0.683319</td>\n",
       "      <td>64.0</td>\n",
       "    </tr>\n",
       "    <tr>\n",
       "      <th>1</th>\n",
       "      <td>0.680000</td>\n",
       "      <td>0.434881</td>\n",
       "      <td>0.368392</td>\n",
       "      <td>59.0</td>\n",
       "    </tr>\n",
       "    <tr>\n",
       "      <th>2</th>\n",
       "      <td>0.046667</td>\n",
       "      <td>0.023579</td>\n",
       "      <td>0.107532</td>\n",
       "      <td>5.0</td>\n",
       "    </tr>\n",
       "  </tbody>\n",
       "</table>\n",
       "</div>"
      ],
      "text/plain": [
       "   Random Forest  XG Boost  Multiple Linear Regression  Probabilidad ponderada\n",
       "0       0.693333  0.421857                    0.683319                    64.0\n",
       "1       0.680000  0.434881                    0.368392                    59.0\n",
       "2       0.046667  0.023579                    0.107532                     5.0"
      ]
     },
     "execution_count": 11,
     "metadata": {},
     "output_type": "execute_result"
    }
   ],
   "source": [
    "predictions"
   ]
  },
  {
   "cell_type": "code",
   "execution_count": 12,
   "metadata": {},
   "outputs": [
    {
     "name": "stdout",
     "output_type": "stream",
     "text": [
      "[0.69333333 0.68       0.04666667]\n",
      "[0.42185688 0.4348811  0.02357912]\n",
      "[0.68331899 0.36839203 0.107532  ]\n"
     ]
    }
   ],
   "source": [
    "print(rf_test_pred)\n",
    "print(xgboost_test_pred)\n",
    "print(mlr_test_pred)"
   ]
  }
 ],
 "metadata": {
  "kernelspec": {
   "display_name": "env",
   "language": "python",
   "name": "python3"
  },
  "language_info": {
   "codemirror_mode": {
    "name": "ipython",
    "version": 3
   },
   "file_extension": ".py",
   "mimetype": "text/x-python",
   "name": "python",
   "nbconvert_exporter": "python",
   "pygments_lexer": "ipython3",
   "version": "3.9.7"
  }
 },
 "nbformat": 4,
 "nbformat_minor": 2
}
