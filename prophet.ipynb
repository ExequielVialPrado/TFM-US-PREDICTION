{
 "cells": [
  {
   "cell_type": "code",
   "execution_count": 6,
   "metadata": {},
   "outputs": [
    {
     "name": "stdout",
     "output_type": "stream",
     "text": [
      "Collecting pystan\n",
      "  Using cached pystan-3.9.1-py3-none-any.whl.metadata (3.7 kB)\n",
      "Collecting aiohttp<4.0,>=3.6 (from pystan)\n",
      "  Using cached aiohttp-3.9.5-cp39-cp39-win_amd64.whl.metadata (7.7 kB)\n",
      "Collecting clikit<0.7,>=0.6 (from pystan)\n",
      "  Using cached clikit-0.6.2-py2.py3-none-any.whl.metadata (1.6 kB)\n",
      "INFO: pip is looking at multiple versions of pystan to determine which version is compatible with other requirements. This could take a while.\n",
      "Collecting pystan\n",
      "  Using cached pystan-3.9.0-py3-none-any.whl.metadata (3.7 kB)\n",
      "  Using cached pystan-3.8.0-py3-none-any.whl.metadata (3.8 kB)\n",
      "  Using cached pystan-3.7.0-py3-none-any.whl.metadata (3.7 kB)\n",
      "  Using cached pystan-3.6.0-py3-none-any.whl.metadata (3.7 kB)\n",
      "  Using cached pystan-3.5.0-py3-none-any.whl.metadata (3.7 kB)\n",
      "  Using cached pystan-3.4.0-py3-none-any.whl.metadata (3.7 kB)\n",
      "  Using cached pystan-3.3.0-py3-none-any.whl.metadata (3.6 kB)\n",
      "INFO: pip is still looking at multiple versions of pystan to determine which version is compatible with other requirements. This could take a while.\n",
      "  Using cached pystan-3.2.0-py3-none-any.whl.metadata (3.6 kB)\n",
      "  Using cached pystan-3.1.1-py3-none-any.whl.metadata (3.6 kB)\n",
      "  Using cached pystan-3.1.0-py3-none-any.whl.metadata (3.6 kB)\n",
      "  Using cached pystan-3.0.2-py3-none-any.whl.metadata (3.6 kB)\n",
      "  Using cached pystan-3.0.1-py3-none-any.whl.metadata (3.6 kB)\n",
      "INFO: This is taking longer than usual. You might need to provide the dependency resolver with stricter constraints to reduce runtime. See https://pip.pypa.io/warnings/backtracking for guidance. If you want to abort this run, press Ctrl + C.\n",
      "  Using cached pystan-3.0.0-py3-none-any.whl.metadata (3.6 kB)\n",
      "  Using cached pystan-2.19.1.1.tar.gz (16.2 MB)\n",
      "  Preparing metadata (setup.py): started\n",
      "  Preparing metadata (setup.py): finished with status 'error'\n"
     ]
    },
    {
     "name": "stderr",
     "output_type": "stream",
     "text": [
      "  error: subprocess-exited-with-error\n",
      "  \n",
      "  × python setup.py egg_info did not run successfully.\n",
      "  │ exit code: 1\n",
      "  ╰─> [6 lines of output]\n",
      "      Traceback (most recent call last):\n",
      "        File \"<string>\", line 2, in <module>\n",
      "        File \"<pip-setuptools-caller>\", line 34, in <module>\n",
      "        File \"C:\\Users\\ejvia\\AppData\\Local\\Temp\\pip-install-44d8vosp\\pystan_4d7ba5c2edee4d49b74884566d7afd65\\setup.py\", line 122, in <module>\n",
      "          from Cython.Build.Inline import _get_build_extension\n",
      "      ModuleNotFoundError: No module named 'Cython'\n",
      "      [end of output]\n",
      "  \n",
      "  note: This error originates from a subprocess, and is likely not a problem with pip.\n",
      "error: metadata-generation-failed\n",
      "\n",
      "× Encountered error while generating package metadata.\n",
      "╰─> See above for output.\n",
      "\n",
      "note: This is an issue with the package mentioned above, not pip.\n",
      "hint: See above for details.\n",
      "\n",
      "[notice] A new release of pip is available: 23.3.2 -> 24.0\n",
      "[notice] To update, run: python.exe -m pip install --upgrade pip\n"
     ]
    },
    {
     "name": "stdout",
     "output_type": "stream",
     "text": [
      "Requirement already satisfied: numpy in c:\\users\\ejvia\\documents\\máster universidad navarra\\tfm\\code\\tfm-us-prediction\\env\\lib\\site-packages (1.26.4)\n",
      "Requirement already satisfied: pandas in c:\\users\\ejvia\\documents\\máster universidad navarra\\tfm\\code\\tfm-us-prediction\\env\\lib\\site-packages (2.2.1)\n",
      "Requirement already satisfied: matplotlib in c:\\users\\ejvia\\documents\\máster universidad navarra\\tfm\\code\\tfm-us-prediction\\env\\lib\\site-packages (3.8.3)\n",
      "Collecting LunarCalendar\n",
      "  Using cached LunarCalendar-0.0.9-py2.py3-none-any.whl.metadata (6.3 kB)\n",
      "Collecting convertdate\n",
      "  Using cached convertdate-2.4.0-py3-none-any.whl.metadata (8.3 kB)\n",
      "Requirement already satisfied: holidays in c:\\users\\ejvia\\documents\\máster universidad navarra\\tfm\\code\\tfm-us-prediction\\env\\lib\\site-packages (0.47)\n",
      "Collecting setuptools-git\n",
      "  Using cached setuptools_git-1.2-py2.py3-none-any.whl.metadata (5.8 kB)\n",
      "Collecting Cython\n",
      "  Using cached Cython-3.0.10-cp39-cp39-win_amd64.whl.metadata (3.2 kB)\n",
      "Requirement already satisfied: python-dateutil>=2.8.2 in c:\\users\\ejvia\\documents\\máster universidad navarra\\tfm\\code\\tfm-us-prediction\\env\\lib\\site-packages (from pandas) (2.9.0.post0)\n",
      "Requirement already satisfied: pytz>=2020.1 in c:\\users\\ejvia\\documents\\máster universidad navarra\\tfm\\code\\tfm-us-prediction\\env\\lib\\site-packages (from pandas) (2024.1)\n",
      "Requirement already satisfied: tzdata>=2022.7 in c:\\users\\ejvia\\documents\\máster universidad navarra\\tfm\\code\\tfm-us-prediction\\env\\lib\\site-packages (from pandas) (2024.1)\n",
      "Requirement already satisfied: contourpy>=1.0.1 in c:\\users\\ejvia\\documents\\máster universidad navarra\\tfm\\code\\tfm-us-prediction\\env\\lib\\site-packages (from matplotlib) (1.2.0)\n",
      "Requirement already satisfied: cycler>=0.10 in c:\\users\\ejvia\\documents\\máster universidad navarra\\tfm\\code\\tfm-us-prediction\\env\\lib\\site-packages (from matplotlib) (0.12.1)\n",
      "Requirement already satisfied: fonttools>=4.22.0 in c:\\users\\ejvia\\documents\\máster universidad navarra\\tfm\\code\\tfm-us-prediction\\env\\lib\\site-packages (from matplotlib) (4.50.0)\n",
      "Requirement already satisfied: kiwisolver>=1.3.1 in c:\\users\\ejvia\\documents\\máster universidad navarra\\tfm\\code\\tfm-us-prediction\\env\\lib\\site-packages (from matplotlib) (1.4.5)\n",
      "Requirement already satisfied: packaging>=20.0 in c:\\users\\ejvia\\documents\\máster universidad navarra\\tfm\\code\\tfm-us-prediction\\env\\lib\\site-packages (from matplotlib) (24.0)\n",
      "Requirement already satisfied: pillow>=8 in c:\\users\\ejvia\\documents\\máster universidad navarra\\tfm\\code\\tfm-us-prediction\\env\\lib\\site-packages (from matplotlib) (10.2.0)\n",
      "Requirement already satisfied: pyparsing>=2.3.1 in c:\\users\\ejvia\\documents\\máster universidad navarra\\tfm\\code\\tfm-us-prediction\\env\\lib\\site-packages (from matplotlib) (3.1.2)\n",
      "Requirement already satisfied: importlib-resources>=3.2.0 in c:\\users\\ejvia\\documents\\máster universidad navarra\\tfm\\code\\tfm-us-prediction\\env\\lib\\site-packages (from matplotlib) (6.3.1)\n",
      "Collecting ephem>=3.7.5.3 (from LunarCalendar)\n",
      "  Using cached ephem-4.1.5-cp39-cp39-win_amd64.whl.metadata (6.1 kB)\n",
      "Collecting pymeeus<=1,>=0.3.13 (from convertdate)\n",
      "  Using cached PyMeeus-0.5.12.tar.gz (5.8 MB)\n",
      "  Preparing metadata (setup.py): started\n",
      "  Preparing metadata (setup.py): finished with status 'done'\n",
      "Requirement already satisfied: zipp>=3.1.0 in c:\\users\\ejvia\\documents\\máster universidad navarra\\tfm\\code\\tfm-us-prediction\\env\\lib\\site-packages (from importlib-resources>=3.2.0->matplotlib) (3.18.1)\n",
      "Requirement already satisfied: six>=1.5 in c:\\users\\ejvia\\documents\\máster universidad navarra\\tfm\\code\\tfm-us-prediction\\env\\lib\\site-packages (from python-dateutil>=2.8.2->pandas) (1.16.0)\n",
      "Downloading LunarCalendar-0.0.9-py2.py3-none-any.whl (18 kB)\n",
      "Downloading convertdate-2.4.0-py3-none-any.whl (47 kB)\n",
      "   ---------------------------------------- 0.0/47.9 kB ? eta -:--:--\n",
      "   ---------------------------------------- 47.9/47.9 kB 2.4 MB/s eta 0:00:00\n",
      "Downloading setuptools_git-1.2-py2.py3-none-any.whl (10 kB)\n",
      "Downloading Cython-3.0.10-cp39-cp39-win_amd64.whl (2.8 MB)\n",
      "   ---------------------------------------- 0.0/2.8 MB ? eta -:--:--\n",
      "   ------------------------ --------------- 1.7/2.8 MB 53.8 MB/s eta 0:00:01\n",
      "   ---------------------------------------- 2.8/2.8 MB 35.6 MB/s eta 0:00:00\n",
      "Downloading ephem-4.1.5-cp39-cp39-win_amd64.whl (1.4 MB)\n",
      "   ---------------------------------------- 0.0/1.4 MB ? eta -:--:--\n",
      "   ---------------------------------------  1.4/1.4 MB 87.7 MB/s eta 0:00:01\n",
      "   ---------------------------------------- 1.4/1.4 MB 29.9 MB/s eta 0:00:00\n",
      "Building wheels for collected packages: pymeeus\n",
      "  Building wheel for pymeeus (setup.py): started\n",
      "  Building wheel for pymeeus (setup.py): finished with status 'done'\n",
      "  Created wheel for pymeeus: filename=PyMeeus-0.5.12-py3-none-any.whl size=732054 sha256=f30ae91ccbf55b470892f8a6bc233cacb8739077b1bdeb767f9f524933c7b16b\n",
      "  Stored in directory: c:\\users\\ejvia\\appdata\\local\\pip\\cache\\wheels\\04\\1f\\e5\\8dd0c661cd8d252817655dc14a84f7ae045d6616594145aa81\n",
      "Successfully built pymeeus\n",
      "Installing collected packages: setuptools-git, pymeeus, ephem, Cython, convertdate, LunarCalendar\n",
      "Successfully installed Cython-3.0.10 LunarCalendar-0.0.9 convertdate-2.4.0 ephem-4.1.5 pymeeus-0.5.12 setuptools-git-1.2\n"
     ]
    },
    {
     "name": "stderr",
     "output_type": "stream",
     "text": [
      "\n",
      "[notice] A new release of pip is available: 23.3.2 -> 24.0\n",
      "[notice] To update, run: python.exe -m pip install --upgrade pip\n"
     ]
    }
   ],
   "source": [
    "!python -m pip install pystan\n",
    "!python -m pip install numpy pandas matplotlib LunarCalendar convertdate holidays setuptools-git Cython"
   ]
  },
  {
   "cell_type": "code",
   "execution_count": 9,
   "metadata": {},
   "outputs": [
    {
     "ename": "ModuleNotFoundError",
     "evalue": "No module named 'fbprophet'",
     "output_type": "error",
     "traceback": [
      "\u001b[1;31m---------------------------------------------------------------------------\u001b[0m",
      "\u001b[1;31mModuleNotFoundError\u001b[0m                       Traceback (most recent call last)",
      "Cell \u001b[1;32mIn[9], line 3\u001b[0m\n\u001b[0;32m      1\u001b[0m \u001b[38;5;28;01mimport\u001b[39;00m \u001b[38;5;21;01mpandas\u001b[39;00m \u001b[38;5;28;01mas\u001b[39;00m \u001b[38;5;21;01mpd\u001b[39;00m\n\u001b[0;32m      2\u001b[0m \u001b[38;5;28;01mfrom\u001b[39;00m \u001b[38;5;21;01mprophet\u001b[39;00m\u001b[38;5;21;01m.\u001b[39;00m\u001b[38;5;21;01mplot\u001b[39;00m \u001b[38;5;28;01mimport\u001b[39;00m plot_plotly, plot_components_plotly\n\u001b[1;32m----> 3\u001b[0m \u001b[38;5;28;01mfrom\u001b[39;00m \u001b[38;5;21;01mfbprophet\u001b[39;00m \u001b[38;5;28;01mimport\u001b[39;00m Prophet\n",
      "\u001b[1;31mModuleNotFoundError\u001b[0m: No module named 'fbprophet'"
     ]
    }
   ],
   "source": [
    "import pandas as pd\n",
    "from prophet.plot import plot_plotly, plot_components_plotly\n",
    "from fbprophet import Prophet"
   ]
  }
 ],
 "metadata": {
  "kernelspec": {
   "display_name": "env",
   "language": "python",
   "name": "python3"
  },
  "language_info": {
   "codemirror_mode": {
    "name": "ipython",
    "version": 3
   },
   "file_extension": ".py",
   "mimetype": "text/x-python",
   "name": "python",
   "nbconvert_exporter": "python",
   "pygments_lexer": "ipython3",
   "version": "3.9.7"
  }
 },
 "nbformat": 4,
 "nbformat_minor": 2
}
